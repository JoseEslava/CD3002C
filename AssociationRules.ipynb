{
  "cells": [
    {
      "cell_type": "code",
      "execution_count": null,
      "metadata": {
        "colab": {
          "base_uri": "https://localhost:8080/"
        },
        "id": "ZbQ42M3Hllog",
        "outputId": "12b93e03-af77-42d4-b4e0-7eb05b09c93d"
      },
      "outputs": [],
      "source": [
        "%pip install mlxtend\n",
        "%pip install openpyxl"
      ]
    },
    {
      "cell_type": "code",
      "execution_count": null,
      "metadata": {
        "colab": {
          "base_uri": "https://localhost:8080/",
          "height": 261
        },
        "id": "zSPaF1cH48DP",
        "outputId": "c64d9dbc-b4be-4ef0-e3da-577f421d12cc"
      },
      "outputs": [],
      "source": [
        "import pandas as pd\n",
        "from mlxtend.frequent_patterns import apriori\n",
        "from mlxtend.frequent_patterns import association_rules\n",
        "\n",
        "df = pd.read_excel('G:/Mi unidad/Python/Association Rules/Online Retail.xlsx')\n",
        "df.head()"
      ]
    },
    {
      "cell_type": "code",
      "execution_count": null,
      "metadata": {
        "colab": {
          "base_uri": "https://localhost:8080/"
        },
        "id": "85tXufwu8ZeR",
        "outputId": "f3e0897d-5ccf-4a25-b810-eae6e21217f4"
      },
      "outputs": [],
      "source": [
        "# Algunas descripciones tienen espacios que se eliminarán\n",
        "# También eliminaremos las filas que no tienen números de factura y eliminaremos las transacciones de crédito (aquellas con números de factura que contienen C).\n",
        "\n",
        "df['Description'] = df['Description'].str.strip()\n",
        "df.dropna(axis=0, subset=['InvoiceNo'], inplace=True)\n",
        "df['InvoiceNo'] = df['InvoiceNo'].astype('str')\n",
        "df = df[~df['InvoiceNo'].str.contains('C')]"
      ]
    },
    {
      "cell_type": "code",
      "execution_count": null,
      "metadata": {
        "colab": {
          "base_uri": "https://localhost:8080/",
          "height": 261
        },
        "id": "Y9gxyeoIGlt4",
        "outputId": "47b0f2ba-59b4-4274-c78b-00fc0e72e252"
      },
      "outputs": [],
      "source": [
        "# Revisamos transacciones de compara de un país específico\n",
        "df[df['Country'] ==\"France\"].head()"
      ]
    },
    {
      "cell_type": "code",
      "execution_count": null,
      "metadata": {
        "colab": {
          "base_uri": "https://localhost:8080/",
          "height": 408
        },
        "id": "UInlZviE91TU",
        "outputId": "2a4dadc7-c61d-47ff-9f1c-6c83280ff20e"
      },
      "outputs": [],
      "source": [
        "# Se consolidan los artículos en 1 transacción agrupando por factura / producto \n",
        "\n",
        "basket = (df[df['Country'] ==\"France\"]\n",
        "          .groupby(['InvoiceNo', 'Description'])['Quantity']\n",
        "          .sum().unstack().reset_index().fillna(0)\n",
        "          .set_index('InvoiceNo'))\n",
        "\n",
        "basket.head()"
      ]
    },
    {
      "cell_type": "code",
      "execution_count": null,
      "metadata": {
        "colab": {
          "base_uri": "https://localhost:8080/"
        },
        "id": "G9LG8NWllKDq",
        "outputId": "80725f0e-e535-4bb8-b6f7-c4db56832af8"
      },
      "outputs": [],
      "source": [
        "# Cualquier valor positivo se convierte en 1 y cualquier valor menor que 0 se establece en 0.\n",
        "# Este paso completa la codificación Hot Encode de los datos y se elimina la columna POSTAGE ya que no se requiere explorar\n",
        "def encode_units(x):\n",
        "    if x <= 0:\n",
        "        return 0\n",
        "    if x >= 1:\n",
        "        return 1\n",
        "\n",
        "basket_sets = basket.applymap(encode_units)\n",
        "basket_sets.drop('POSTAGE', inplace=True, axis=1)\n",
        "\n",
        "basket_sets.head()"
      ]
    },
    {
      "cell_type": "code",
      "execution_count": null,
      "metadata": {
        "colab": {
          "base_uri": "https://localhost:8080/"
        },
        "id": "rRkwkzVEl7j3",
        "outputId": "86b7563b-e252-4ea4-f4fb-9f7b09e19d4d"
      },
      "outputs": [],
      "source": [
        "# Se genera un conjunto de elementos frecuentes que tengan un soporte de al menos el 7%\n",
        "frequent_itemsets = apriori(basket_sets, min_support=0.07, use_colnames=True)"
      ]
    },
    {
      "cell_type": "code",
      "execution_count": null,
      "metadata": {
        "colab": {
          "base_uri": "https://localhost:8080/",
          "height": 261
        },
        "id": "hXHIvmA8mTTP",
        "outputId": "61edd847-a55e-4a05-8752-3ef19dcc1884"
      },
      "outputs": [],
      "source": [
        "# Generar las reglas con su correspondiente soporte, confianza y posibilidad de que suceda (lift)\n",
        "rules = association_rules(frequent_itemsets, metric=\"lift\", min_threshold=1.2)\n",
        "rules.head()"
      ]
    },
    {
      "cell_type": "code",
      "execution_count": null,
      "metadata": {
        "colab": {
          "base_uri": "https://localhost:8080/",
          "height": 493
        },
        "id": "SxXFTTD5nANk",
        "outputId": "729dd2bf-c8e7-4b6f-fcf3-d3a523b6f162"
      },
      "outputs": [],
      "source": [
        "# filtrar el dataframe con valores de lift mayores a (6) y una confianza alta (.8), ordenado por LIFT\n",
        "rules[ (rules['lift'] >= 4) &\n",
        "       (rules['confidence'] >= 0.6) ].sort_values(by=['lift'], ascending=False)"
      ]
    },
    {
      "cell_type": "code",
      "execution_count": null,
      "metadata": {
        "colab": {
          "base_uri": "https://localhost:8080/",
          "height": 413
        },
        "id": "mtz35hwat-Lf",
        "outputId": "1a7d2245-9fd3-4085-8241-bbbb52255c74"
      },
      "outputs": [],
      "source": [
        "# Analizar cómo varían las combinaciones según el país de compra\n",
        "\n",
        "basket2 = (df[df['Country'] ==\"Germany\"]\n",
        "          .groupby(['InvoiceNo', 'Description'])['Quantity']\n",
        "          .sum().unstack().reset_index().fillna(0)\n",
        "          .set_index('InvoiceNo'))\n",
        "\n",
        "basket_sets2 = basket2.applymap(encode_units)\n",
        "basket_sets2.drop('POSTAGE', inplace=True, axis=1)\n",
        "frequent_itemsets2 = apriori(basket_sets2, min_support=0.03, use_colnames=True)\n",
        "rules2 = association_rules(frequent_itemsets2, metric=\"lift\", min_threshold=1.2)\n",
        "\n",
        "rules2[ (rules2['lift'] >= 4) &\n",
        "        (rules2['confidence'] >= 0.6)].sort_values(by=['lift'], ascending=False)"
      ]
    }
  ],
  "metadata": {
    "colab": {
      "provenance": []
    },
    "kernelspec": {
      "display_name": "Python 3",
      "name": "python3"
    },
    "language_info": {
      "codemirror_mode": {
        "name": "ipython",
        "version": 3
      },
      "file_extension": ".py",
      "mimetype": "text/x-python",
      "name": "python",
      "nbconvert_exporter": "python",
      "pygments_lexer": "ipython3",
      "version": "3.10.11"
    }
  },
  "nbformat": 4,
  "nbformat_minor": 0
}
